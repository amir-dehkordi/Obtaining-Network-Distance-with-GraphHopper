{
 "cells": [
  {
   "cell_type": "markdown",
   "metadata": {},
   "source": [
    "# Imports"
   ]
  },
  {
   "cell_type": "code",
   "execution_count": 1,
   "metadata": {},
   "outputs": [],
   "source": [
    "import pandas as pd"
   ]
  },
  {
   "cell_type": "markdown",
   "metadata": {},
   "source": [
    "# Read CSV"
   ]
  },
  {
   "cell_type": "code",
   "execution_count": 32,
   "metadata": {},
   "outputs": [
    {
     "name": "stderr",
     "output_type": "stream",
     "text": [
      "C:\\Users\\AmirMohammd\\AppData\\Local\\Temp\\ipykernel_9292\\944485695.py:1: DtypeWarning: Columns (5,7) have mixed types. Specify dtype option on import or set low_memory=False.\n",
      "  raw_data = pd.read_csv('../raw_data/202306-citibike-tripdata.csv')\n"
     ]
    }
   ],
   "source": [
    "raw_data = pd.read_csv('../raw_data/202306-citibike-tripdata.csv')"
   ]
  },
  {
   "cell_type": "code",
   "execution_count": 33,
   "metadata": {
    "scrolled": true
   },
   "outputs": [
    {
     "data": {
      "text/plain": [
       "ride_id                object\n",
       "rideable_type          object\n",
       "started_at             object\n",
       "ended_at               object\n",
       "start_station_name     object\n",
       "start_station_id       object\n",
       "end_station_name       object\n",
       "end_station_id         object\n",
       "start_lat             float64\n",
       "start_lng             float64\n",
       "end_lat               float64\n",
       "end_lng               float64\n",
       "member_casual          object\n",
       "dtype: object"
      ]
     },
     "execution_count": 33,
     "metadata": {},
     "output_type": "execute_result"
    }
   ],
   "source": [
    "raw_data.dtypes"
   ]
  },
  {
   "cell_type": "code",
   "execution_count": 34,
   "metadata": {},
   "outputs": [],
   "source": [
    "missing_values = raw_data.isnull().sum()"
   ]
  },
  {
   "cell_type": "code",
   "execution_count": 35,
   "metadata": {
    "scrolled": true
   },
   "outputs": [
    {
     "data": {
      "text/plain": [
       "ride_id                  0\n",
       "rideable_type            0\n",
       "started_at               0\n",
       "ended_at                 0\n",
       "start_station_name    1972\n",
       "start_station_id      1972\n",
       "end_station_name      7808\n",
       "end_station_id        7808\n",
       "start_lat                0\n",
       "start_lng                0\n",
       "end_lat               2726\n",
       "end_lng               2726\n",
       "member_casual            0\n",
       "dtype: int64"
      ]
     },
     "execution_count": 35,
     "metadata": {},
     "output_type": "execute_result"
    }
   ],
   "source": [
    "missing_values"
   ]
  },
  {
   "cell_type": "code",
   "execution_count": 8,
   "metadata": {},
   "outputs": [
    {
     "data": {
      "text/plain": [
       "(3560259, 13)"
      ]
     },
     "execution_count": 8,
     "metadata": {},
     "output_type": "execute_result"
    }
   ],
   "source": [
    "raw_data.shape"
   ]
  },
  {
   "cell_type": "code",
   "execution_count": 21,
   "metadata": {},
   "outputs": [],
   "source": [
    "test=raw_data.dropna()"
   ]
  },
  {
   "cell_type": "code",
   "execution_count": 22,
   "metadata": {},
   "outputs": [
    {
     "data": {
      "text/plain": [
       "ride_id               0\n",
       "rideable_type         0\n",
       "started_at            0\n",
       "ended_at              0\n",
       "start_station_name    0\n",
       "start_station_id      0\n",
       "end_station_name      0\n",
       "end_station_id        0\n",
       "start_lat             0\n",
       "start_lng             0\n",
       "end_lat               0\n",
       "end_lng               0\n",
       "member_casual         0\n",
       "dtype: int64"
      ]
     },
     "execution_count": 22,
     "metadata": {},
     "output_type": "execute_result"
    }
   ],
   "source": [
    "test.isnull().sum()"
   ]
  },
  {
   "cell_type": "markdown",
   "metadata": {},
   "source": [
    "## 7,859 records was deleted cuz of the whole missing data"
   ]
  },
  {
   "cell_type": "code",
   "execution_count": 24,
   "metadata": {},
   "outputs": [
    {
     "data": {
      "text/plain": [
       "(3552400, 13)"
      ]
     },
     "execution_count": 24,
     "metadata": {},
     "output_type": "execute_result"
    }
   ],
   "source": [
    "test.shape"
   ]
  },
  {
   "cell_type": "markdown",
   "metadata": {},
   "source": [
    "# end _lat and end_lng"
   ]
  },
  {
   "cell_type": "code",
   "execution_count": 25,
   "metadata": {},
   "outputs": [],
   "source": [
    "raw_data.dropna(subset=['end_lat'], inplace=True)"
   ]
  },
  {
   "cell_type": "code",
   "execution_count": 30,
   "metadata": {},
   "outputs": [
    {
     "data": {
      "text/plain": [
       "(3557533, 13)"
      ]
     },
     "execution_count": 30,
     "metadata": {},
     "output_type": "execute_result"
    }
   ],
   "source": [
    "raw_data.shape"
   ]
  },
  {
   "cell_type": "code",
   "execution_count": 31,
   "metadata": {
    "scrolled": true
   },
   "outputs": [
    {
     "data": {
      "text/plain": [
       "ride_id                  0\n",
       "rideable_type            0\n",
       "started_at               0\n",
       "ended_at                 0\n",
       "start_station_name    1972\n",
       "start_station_id      1972\n",
       "end_station_name      5133\n",
       "end_station_id        5133\n",
       "start_lat                0\n",
       "start_lng                0\n",
       "end_lat                  0\n",
       "end_lng                  0\n",
       "member_casual            0\n",
       "dtype: int64"
      ]
     },
     "execution_count": 31,
     "metadata": {},
     "output_type": "execute_result"
    }
   ],
   "source": [
    "raw_data.isnull().sum()"
   ]
  },
  {
   "cell_type": "markdown",
   "metadata": {},
   "source": [
    "# end_station_name"
   ]
  },
  {
   "cell_type": "code",
   "execution_count": 36,
   "metadata": {},
   "outputs": [
    {
     "data": {
      "text/plain": [
       "(3560259, 13)"
      ]
     },
     "execution_count": 36,
     "metadata": {},
     "output_type": "execute_result"
    }
   ],
   "source": [
    "raw_data.shape"
   ]
  },
  {
   "cell_type": "code",
   "execution_count": 37,
   "metadata": {},
   "outputs": [],
   "source": [
    "raw_data.dropna(subset=['end_station_name'], inplace=True)"
   ]
  },
  {
   "cell_type": "code",
   "execution_count": 38,
   "metadata": {},
   "outputs": [
    {
     "data": {
      "text/plain": [
       "ride_id                0\n",
       "rideable_type          0\n",
       "started_at             0\n",
       "ended_at               0\n",
       "start_station_name     0\n",
       "start_station_id       0\n",
       "end_station_name       0\n",
       "end_station_id         0\n",
       "start_lat              0\n",
       "start_lng              0\n",
       "end_lat               51\n",
       "end_lng               51\n",
       "member_casual          0\n",
       "dtype: int64"
      ]
     },
     "execution_count": 38,
     "metadata": {},
     "output_type": "execute_result"
    }
   ],
   "source": [
    "raw_data.isnull().sum()"
   ]
  },
  {
   "cell_type": "code",
   "execution_count": null,
   "metadata": {},
   "outputs": [],
   "source": []
  },
  {
   "cell_type": "markdown",
   "metadata": {},
   "source": [
    "# Change Types"
   ]
  },
  {
   "cell_type": "code",
   "execution_count": 10,
   "metadata": {
    "scrolled": true
   },
   "outputs": [
    {
     "data": {
      "text/plain": [
       "ride_id                     object\n",
       "started_at          datetime64[ns]\n",
       "ended_at            datetime64[ns]\n",
       "start_station_id           float64\n",
       "end_station_id             float64\n",
       "start_lat                  float64\n",
       "start_lng                  float64\n",
       "end_lat                    float64\n",
       "end_lng                    float64\n",
       "dtype: object"
      ]
     },
     "execution_count": 10,
     "metadata": {},
     "output_type": "execute_result"
    }
   ],
   "source": [
    "df = raw_data.drop(['rideable_type', 'start_station_name', 'end_station_name', 'member_casual'], axis=1)\n",
    "df['start_station_id'] = pd.to_numeric(df['start_station_id'], errors='coerce')\n",
    "df['end_station_id'] = pd.to_numeric(df['end_station_id'], errors='coerce')\n",
    "df['ended_at'] = pd.to_datetime(df['ended_at'])\n",
    "df['started_at'] = pd.to_datetime(df['started_at'])\n",
    "\n",
    "df.dtypes"
   ]
  },
  {
   "cell_type": "code",
   "execution_count": 11,
   "metadata": {},
   "outputs": [
    {
     "data": {
      "text/html": [
       "<div>\n",
       "<style scoped>\n",
       "    .dataframe tbody tr th:only-of-type {\n",
       "        vertical-align: middle;\n",
       "    }\n",
       "\n",
       "    .dataframe tbody tr th {\n",
       "        vertical-align: top;\n",
       "    }\n",
       "\n",
       "    .dataframe thead th {\n",
       "        text-align: right;\n",
       "    }\n",
       "</style>\n",
       "<table border=\"1\" class=\"dataframe\">\n",
       "  <thead>\n",
       "    <tr style=\"text-align: right;\">\n",
       "      <th></th>\n",
       "      <th>ride_id</th>\n",
       "      <th>started_at</th>\n",
       "      <th>ended_at</th>\n",
       "      <th>start_station_id</th>\n",
       "      <th>end_station_id</th>\n",
       "      <th>start_lat</th>\n",
       "      <th>start_lng</th>\n",
       "      <th>end_lat</th>\n",
       "      <th>end_lng</th>\n",
       "    </tr>\n",
       "  </thead>\n",
       "  <tbody>\n",
       "    <tr>\n",
       "      <th>0</th>\n",
       "      <td>984F50BCBC76DD9A</td>\n",
       "      <td>2023-06-11 06:54:21</td>\n",
       "      <td>2023-06-11 07:12:28</td>\n",
       "      <td>7382.04</td>\n",
       "      <td>7800.03</td>\n",
       "      <td>40.785000</td>\n",
       "      <td>-73.972834</td>\n",
       "      <td>40.813358</td>\n",
       "      <td>-73.956461</td>\n",
       "    </tr>\n",
       "    <tr>\n",
       "      <th>1</th>\n",
       "      <td>03E3D62E7FB76B05</td>\n",
       "      <td>2023-06-19 15:23:11</td>\n",
       "      <td>2023-06-19 16:00:05</td>\n",
       "      <td>7204.08</td>\n",
       "      <td>5561.04</td>\n",
       "      <td>40.777958</td>\n",
       "      <td>-73.945928</td>\n",
       "      <td>40.723180</td>\n",
       "      <td>-73.994800</td>\n",
       "    </tr>\n",
       "    <tr>\n",
       "      <th>2</th>\n",
       "      <td>8E7EE421A0B8BBF3</td>\n",
       "      <td>2023-06-06 16:07:05</td>\n",
       "      <td>2023-06-06 16:15:14</td>\n",
       "      <td>6575.03</td>\n",
       "      <td>6004.07</td>\n",
       "      <td>40.755357</td>\n",
       "      <td>-73.967489</td>\n",
       "      <td>40.738177</td>\n",
       "      <td>-73.977387</td>\n",
       "    </tr>\n",
       "    <tr>\n",
       "      <th>3</th>\n",
       "      <td>24D66A0C46493CB1</td>\n",
       "      <td>2023-06-26 19:52:23</td>\n",
       "      <td>2023-06-26 19:55:47</td>\n",
       "      <td>5794.05</td>\n",
       "      <td>5944.01</td>\n",
       "      <td>40.731735</td>\n",
       "      <td>-73.961239</td>\n",
       "      <td>40.735640</td>\n",
       "      <td>-73.958660</td>\n",
       "    </tr>\n",
       "    <tr>\n",
       "      <th>4</th>\n",
       "      <td>E944882A074B8F61</td>\n",
       "      <td>2023-06-05 08:57:57</td>\n",
       "      <td>2023-06-05 09:13:36</td>\n",
       "      <td>6498.10</td>\n",
       "      <td>6248.06</td>\n",
       "      <td>40.753231</td>\n",
       "      <td>-73.970325</td>\n",
       "      <td>40.745168</td>\n",
       "      <td>-73.986831</td>\n",
       "    </tr>\n",
       "    <tr>\n",
       "      <th>...</th>\n",
       "      <td>...</td>\n",
       "      <td>...</td>\n",
       "      <td>...</td>\n",
       "      <td>...</td>\n",
       "      <td>...</td>\n",
       "      <td>...</td>\n",
       "      <td>...</td>\n",
       "      <td>...</td>\n",
       "      <td>...</td>\n",
       "    </tr>\n",
       "    <tr>\n",
       "      <th>3560254</th>\n",
       "      <td>E6B04D2FD398493E</td>\n",
       "      <td>2023-06-22 18:06:15</td>\n",
       "      <td>2023-06-22 18:19:31</td>\n",
       "      <td>5755.14</td>\n",
       "      <td>5335.03</td>\n",
       "      <td>40.731437</td>\n",
       "      <td>-73.994903</td>\n",
       "      <td>40.716226</td>\n",
       "      <td>-73.982612</td>\n",
       "    </tr>\n",
       "    <tr>\n",
       "      <th>3560255</th>\n",
       "      <td>A9C0665FC912A63B</td>\n",
       "      <td>2023-06-12 09:16:47</td>\n",
       "      <td>2023-06-12 09:42:18</td>\n",
       "      <td>5340.01</td>\n",
       "      <td>6227.02</td>\n",
       "      <td>40.716967</td>\n",
       "      <td>-73.956388</td>\n",
       "      <td>40.744697</td>\n",
       "      <td>-73.935404</td>\n",
       "    </tr>\n",
       "    <tr>\n",
       "      <th>3560256</th>\n",
       "      <td>C6B241D76A0137FD</td>\n",
       "      <td>2023-06-11 17:23:58</td>\n",
       "      <td>2023-06-11 18:02:36</td>\n",
       "      <td>7886.02</td>\n",
       "      <td>6876.04</td>\n",
       "      <td>40.818299</td>\n",
       "      <td>-73.960405</td>\n",
       "      <td>40.765909</td>\n",
       "      <td>-73.976342</td>\n",
       "    </tr>\n",
       "    <tr>\n",
       "      <th>3560257</th>\n",
       "      <td>B218070FEA49C6B3</td>\n",
       "      <td>2023-06-27 18:16:21</td>\n",
       "      <td>2023-06-27 18:33:12</td>\n",
       "      <td>6578.01</td>\n",
       "      <td>7059.01</td>\n",
       "      <td>40.755942</td>\n",
       "      <td>-74.002116</td>\n",
       "      <td>40.771497</td>\n",
       "      <td>-73.990460</td>\n",
       "    </tr>\n",
       "    <tr>\n",
       "      <th>3560258</th>\n",
       "      <td>69FB0F587F4022B6</td>\n",
       "      <td>2023-06-02 14:25:05</td>\n",
       "      <td>2023-06-02 14:32:29</td>\n",
       "      <td>5721.01</td>\n",
       "      <td>6072.11</td>\n",
       "      <td>40.730477</td>\n",
       "      <td>-73.999061</td>\n",
       "      <td>40.740983</td>\n",
       "      <td>-74.001702</td>\n",
       "    </tr>\n",
       "  </tbody>\n",
       "</table>\n",
       "<p>3560259 rows × 9 columns</p>\n",
       "</div>"
      ],
      "text/plain": [
       "                  ride_id          started_at            ended_at  \\\n",
       "0        984F50BCBC76DD9A 2023-06-11 06:54:21 2023-06-11 07:12:28   \n",
       "1        03E3D62E7FB76B05 2023-06-19 15:23:11 2023-06-19 16:00:05   \n",
       "2        8E7EE421A0B8BBF3 2023-06-06 16:07:05 2023-06-06 16:15:14   \n",
       "3        24D66A0C46493CB1 2023-06-26 19:52:23 2023-06-26 19:55:47   \n",
       "4        E944882A074B8F61 2023-06-05 08:57:57 2023-06-05 09:13:36   \n",
       "...                   ...                 ...                 ...   \n",
       "3560254  E6B04D2FD398493E 2023-06-22 18:06:15 2023-06-22 18:19:31   \n",
       "3560255  A9C0665FC912A63B 2023-06-12 09:16:47 2023-06-12 09:42:18   \n",
       "3560256  C6B241D76A0137FD 2023-06-11 17:23:58 2023-06-11 18:02:36   \n",
       "3560257  B218070FEA49C6B3 2023-06-27 18:16:21 2023-06-27 18:33:12   \n",
       "3560258  69FB0F587F4022B6 2023-06-02 14:25:05 2023-06-02 14:32:29   \n",
       "\n",
       "         start_station_id  end_station_id  start_lat  start_lng    end_lat  \\\n",
       "0                 7382.04         7800.03  40.785000 -73.972834  40.813358   \n",
       "1                 7204.08         5561.04  40.777958 -73.945928  40.723180   \n",
       "2                 6575.03         6004.07  40.755357 -73.967489  40.738177   \n",
       "3                 5794.05         5944.01  40.731735 -73.961239  40.735640   \n",
       "4                 6498.10         6248.06  40.753231 -73.970325  40.745168   \n",
       "...                   ...             ...        ...        ...        ...   \n",
       "3560254           5755.14         5335.03  40.731437 -73.994903  40.716226   \n",
       "3560255           5340.01         6227.02  40.716967 -73.956388  40.744697   \n",
       "3560256           7886.02         6876.04  40.818299 -73.960405  40.765909   \n",
       "3560257           6578.01         7059.01  40.755942 -74.002116  40.771497   \n",
       "3560258           5721.01         6072.11  40.730477 -73.999061  40.740983   \n",
       "\n",
       "           end_lng  \n",
       "0       -73.956461  \n",
       "1       -73.994800  \n",
       "2       -73.977387  \n",
       "3       -73.958660  \n",
       "4       -73.986831  \n",
       "...            ...  \n",
       "3560254 -73.982612  \n",
       "3560255 -73.935404  \n",
       "3560256 -73.976342  \n",
       "3560257 -73.990460  \n",
       "3560258 -74.001702  \n",
       "\n",
       "[3560259 rows x 9 columns]"
      ]
     },
     "execution_count": 11,
     "metadata": {},
     "output_type": "execute_result"
    }
   ],
   "source": [
    "df"
   ]
  },
  {
   "cell_type": "code",
   "execution_count": 12,
   "metadata": {},
   "outputs": [],
   "source": [
    "df['trip_duration_minutes'] = (df['ended_at'] - df['started_at']).dt.seconds / 60"
   ]
  },
  {
   "cell_type": "code",
   "execution_count": 13,
   "metadata": {},
   "outputs": [
    {
     "data": {
      "text/html": [
       "<div>\n",
       "<style scoped>\n",
       "    .dataframe tbody tr th:only-of-type {\n",
       "        vertical-align: middle;\n",
       "    }\n",
       "\n",
       "    .dataframe tbody tr th {\n",
       "        vertical-align: top;\n",
       "    }\n",
       "\n",
       "    .dataframe thead th {\n",
       "        text-align: right;\n",
       "    }\n",
       "</style>\n",
       "<table border=\"1\" class=\"dataframe\">\n",
       "  <thead>\n",
       "    <tr style=\"text-align: right;\">\n",
       "      <th></th>\n",
       "      <th>ride_id</th>\n",
       "      <th>started_at</th>\n",
       "      <th>ended_at</th>\n",
       "      <th>start_station_id</th>\n",
       "      <th>end_station_id</th>\n",
       "      <th>start_lat</th>\n",
       "      <th>start_lng</th>\n",
       "      <th>end_lat</th>\n",
       "      <th>end_lng</th>\n",
       "      <th>trip_duration_minutes</th>\n",
       "    </tr>\n",
       "  </thead>\n",
       "  <tbody>\n",
       "    <tr>\n",
       "      <th>0</th>\n",
       "      <td>984F50BCBC76DD9A</td>\n",
       "      <td>2023-06-11 06:54:21</td>\n",
       "      <td>2023-06-11 07:12:28</td>\n",
       "      <td>7382.04</td>\n",
       "      <td>7800.03</td>\n",
       "      <td>40.785000</td>\n",
       "      <td>-73.972834</td>\n",
       "      <td>40.813358</td>\n",
       "      <td>-73.956461</td>\n",
       "      <td>18.116667</td>\n",
       "    </tr>\n",
       "    <tr>\n",
       "      <th>1</th>\n",
       "      <td>03E3D62E7FB76B05</td>\n",
       "      <td>2023-06-19 15:23:11</td>\n",
       "      <td>2023-06-19 16:00:05</td>\n",
       "      <td>7204.08</td>\n",
       "      <td>5561.04</td>\n",
       "      <td>40.777958</td>\n",
       "      <td>-73.945928</td>\n",
       "      <td>40.723180</td>\n",
       "      <td>-73.994800</td>\n",
       "      <td>36.900000</td>\n",
       "    </tr>\n",
       "    <tr>\n",
       "      <th>2</th>\n",
       "      <td>8E7EE421A0B8BBF3</td>\n",
       "      <td>2023-06-06 16:07:05</td>\n",
       "      <td>2023-06-06 16:15:14</td>\n",
       "      <td>6575.03</td>\n",
       "      <td>6004.07</td>\n",
       "      <td>40.755357</td>\n",
       "      <td>-73.967489</td>\n",
       "      <td>40.738177</td>\n",
       "      <td>-73.977387</td>\n",
       "      <td>8.150000</td>\n",
       "    </tr>\n",
       "    <tr>\n",
       "      <th>3</th>\n",
       "      <td>24D66A0C46493CB1</td>\n",
       "      <td>2023-06-26 19:52:23</td>\n",
       "      <td>2023-06-26 19:55:47</td>\n",
       "      <td>5794.05</td>\n",
       "      <td>5944.01</td>\n",
       "      <td>40.731735</td>\n",
       "      <td>-73.961239</td>\n",
       "      <td>40.735640</td>\n",
       "      <td>-73.958660</td>\n",
       "      <td>3.400000</td>\n",
       "    </tr>\n",
       "    <tr>\n",
       "      <th>4</th>\n",
       "      <td>E944882A074B8F61</td>\n",
       "      <td>2023-06-05 08:57:57</td>\n",
       "      <td>2023-06-05 09:13:36</td>\n",
       "      <td>6498.10</td>\n",
       "      <td>6248.06</td>\n",
       "      <td>40.753231</td>\n",
       "      <td>-73.970325</td>\n",
       "      <td>40.745168</td>\n",
       "      <td>-73.986831</td>\n",
       "      <td>15.650000</td>\n",
       "    </tr>\n",
       "    <tr>\n",
       "      <th>...</th>\n",
       "      <td>...</td>\n",
       "      <td>...</td>\n",
       "      <td>...</td>\n",
       "      <td>...</td>\n",
       "      <td>...</td>\n",
       "      <td>...</td>\n",
       "      <td>...</td>\n",
       "      <td>...</td>\n",
       "      <td>...</td>\n",
       "      <td>...</td>\n",
       "    </tr>\n",
       "    <tr>\n",
       "      <th>3560254</th>\n",
       "      <td>E6B04D2FD398493E</td>\n",
       "      <td>2023-06-22 18:06:15</td>\n",
       "      <td>2023-06-22 18:19:31</td>\n",
       "      <td>5755.14</td>\n",
       "      <td>5335.03</td>\n",
       "      <td>40.731437</td>\n",
       "      <td>-73.994903</td>\n",
       "      <td>40.716226</td>\n",
       "      <td>-73.982612</td>\n",
       "      <td>13.266667</td>\n",
       "    </tr>\n",
       "    <tr>\n",
       "      <th>3560255</th>\n",
       "      <td>A9C0665FC912A63B</td>\n",
       "      <td>2023-06-12 09:16:47</td>\n",
       "      <td>2023-06-12 09:42:18</td>\n",
       "      <td>5340.01</td>\n",
       "      <td>6227.02</td>\n",
       "      <td>40.716967</td>\n",
       "      <td>-73.956388</td>\n",
       "      <td>40.744697</td>\n",
       "      <td>-73.935404</td>\n",
       "      <td>25.516667</td>\n",
       "    </tr>\n",
       "    <tr>\n",
       "      <th>3560256</th>\n",
       "      <td>C6B241D76A0137FD</td>\n",
       "      <td>2023-06-11 17:23:58</td>\n",
       "      <td>2023-06-11 18:02:36</td>\n",
       "      <td>7886.02</td>\n",
       "      <td>6876.04</td>\n",
       "      <td>40.818299</td>\n",
       "      <td>-73.960405</td>\n",
       "      <td>40.765909</td>\n",
       "      <td>-73.976342</td>\n",
       "      <td>38.633333</td>\n",
       "    </tr>\n",
       "    <tr>\n",
       "      <th>3560257</th>\n",
       "      <td>B218070FEA49C6B3</td>\n",
       "      <td>2023-06-27 18:16:21</td>\n",
       "      <td>2023-06-27 18:33:12</td>\n",
       "      <td>6578.01</td>\n",
       "      <td>7059.01</td>\n",
       "      <td>40.755942</td>\n",
       "      <td>-74.002116</td>\n",
       "      <td>40.771497</td>\n",
       "      <td>-73.990460</td>\n",
       "      <td>16.850000</td>\n",
       "    </tr>\n",
       "    <tr>\n",
       "      <th>3560258</th>\n",
       "      <td>69FB0F587F4022B6</td>\n",
       "      <td>2023-06-02 14:25:05</td>\n",
       "      <td>2023-06-02 14:32:29</td>\n",
       "      <td>5721.01</td>\n",
       "      <td>6072.11</td>\n",
       "      <td>40.730477</td>\n",
       "      <td>-73.999061</td>\n",
       "      <td>40.740983</td>\n",
       "      <td>-74.001702</td>\n",
       "      <td>7.400000</td>\n",
       "    </tr>\n",
       "  </tbody>\n",
       "</table>\n",
       "<p>3560259 rows × 10 columns</p>\n",
       "</div>"
      ],
      "text/plain": [
       "                  ride_id          started_at            ended_at  \\\n",
       "0        984F50BCBC76DD9A 2023-06-11 06:54:21 2023-06-11 07:12:28   \n",
       "1        03E3D62E7FB76B05 2023-06-19 15:23:11 2023-06-19 16:00:05   \n",
       "2        8E7EE421A0B8BBF3 2023-06-06 16:07:05 2023-06-06 16:15:14   \n",
       "3        24D66A0C46493CB1 2023-06-26 19:52:23 2023-06-26 19:55:47   \n",
       "4        E944882A074B8F61 2023-06-05 08:57:57 2023-06-05 09:13:36   \n",
       "...                   ...                 ...                 ...   \n",
       "3560254  E6B04D2FD398493E 2023-06-22 18:06:15 2023-06-22 18:19:31   \n",
       "3560255  A9C0665FC912A63B 2023-06-12 09:16:47 2023-06-12 09:42:18   \n",
       "3560256  C6B241D76A0137FD 2023-06-11 17:23:58 2023-06-11 18:02:36   \n",
       "3560257  B218070FEA49C6B3 2023-06-27 18:16:21 2023-06-27 18:33:12   \n",
       "3560258  69FB0F587F4022B6 2023-06-02 14:25:05 2023-06-02 14:32:29   \n",
       "\n",
       "         start_station_id  end_station_id  start_lat  start_lng    end_lat  \\\n",
       "0                 7382.04         7800.03  40.785000 -73.972834  40.813358   \n",
       "1                 7204.08         5561.04  40.777958 -73.945928  40.723180   \n",
       "2                 6575.03         6004.07  40.755357 -73.967489  40.738177   \n",
       "3                 5794.05         5944.01  40.731735 -73.961239  40.735640   \n",
       "4                 6498.10         6248.06  40.753231 -73.970325  40.745168   \n",
       "...                   ...             ...        ...        ...        ...   \n",
       "3560254           5755.14         5335.03  40.731437 -73.994903  40.716226   \n",
       "3560255           5340.01         6227.02  40.716967 -73.956388  40.744697   \n",
       "3560256           7886.02         6876.04  40.818299 -73.960405  40.765909   \n",
       "3560257           6578.01         7059.01  40.755942 -74.002116  40.771497   \n",
       "3560258           5721.01         6072.11  40.730477 -73.999061  40.740983   \n",
       "\n",
       "           end_lng  trip_duration_minutes  \n",
       "0       -73.956461              18.116667  \n",
       "1       -73.994800              36.900000  \n",
       "2       -73.977387               8.150000  \n",
       "3       -73.958660               3.400000  \n",
       "4       -73.986831              15.650000  \n",
       "...            ...                    ...  \n",
       "3560254 -73.982612              13.266667  \n",
       "3560255 -73.935404              25.516667  \n",
       "3560256 -73.976342              38.633333  \n",
       "3560257 -73.990460              16.850000  \n",
       "3560258 -74.001702               7.400000  \n",
       "\n",
       "[3560259 rows x 10 columns]"
      ]
     },
     "execution_count": 13,
     "metadata": {},
     "output_type": "execute_result"
    }
   ],
   "source": [
    "df"
   ]
  },
  {
   "cell_type": "markdown",
   "metadata": {},
   "source": [
    "# Create In/Out Dataframes"
   ]
  },
  {
   "cell_type": "code",
   "execution_count": 6,
   "metadata": {},
   "outputs": [],
   "source": [
    "in_df = df.drop(['started_at', 'start_station_id', 'start_lat', 'start_lng', 'end_lat', 'end_lng'], axis=1)\n",
    "in_df['time'] = df['ended_at']\n",
    "in_df = in_df[(in_df['time'] >= '2023-06-01 00:00:00') & (in_df['time'] <= '2023-06-30 23:59:59')]\n",
    "in_df['station_id'] = df['end_station_id']\n",
    "in_df = in_df.drop(['ended_at', 'end_station_id'], axis=1)\n",
    "\n",
    "out_df = df.drop(['ended_at', 'end_station_id','start_lat', 'start_lng', 'end_lat', 'end_lng'], axis=1)\n",
    "out_df['time'] = df['started_at']\n",
    "out_df = out_df[(out_df['time'] >= '2023-06-01 00:00:00') & (out_df['time'] <= '2023-06-30 23:59:59')]\n",
    "out_df['station_id'] = df['start_station_id']\n",
    "out_df = out_df.drop(['started_at', 'start_station_id'], axis=1)"
   ]
  },
  {
   "cell_type": "code",
   "execution_count": 16,
   "metadata": {},
   "outputs": [
    {
     "name": "stdout",
     "output_type": "stream",
     "text": [
      "Trips less than 2 minutes: 233386\n",
      "Trips greater than 90 minutes: 21847\n"
     ]
    }
   ],
   "source": [
    "#Filter trips with duration less than 2 minutes\n",
    "short_trips = df[df['trip_duration_minutes'] < 2]\n",
    "\n",
    "# Filter trips with duration greater than 90 minutes\n",
    "long_trips = df[df['trip_duration_minutes'] > 90]\n",
    "\n",
    "# Count the filtered rows\n",
    "short_trip_count = len(short_trips)\n",
    "long_trip_count = len(long_trips)\n",
    "\n",
    "print(f\"Trips less than 2 minutes: {short_trip_count}\")\n",
    "print(f\"Trips greater than 90 minutes: {long_trip_count}\")"
   ]
  },
  {
   "cell_type": "markdown",
   "metadata": {},
   "source": [
    "# Chunk each dataframe by timestep amount"
   ]
  },
  {
   "cell_type": "code",
   "execution_count": 7,
   "metadata": {},
   "outputs": [],
   "source": [
    "timestep = 15\n",
    "target_len = len(pd.DataFrame({'time': pd.date_range('2023-06-01 00:00:00',\n",
    "                                            '2023-06-30 23:59:59',\n",
    "                                            freq=str(timestep)+'min')}).set_index('time'))\n",
    "target_len"
   ]
  },
  {
   "cell_type": "code",
   "execution_count": 8,
   "metadata": {},
   "outputs": [],
   "source": [
    "out_timeseries = out_df.groupby([pd.Grouper(freq=str(timestep)+'T', key='time'), 'station_id'])\n",
    "out_timeseries = out_timeseries['ride_id'].count().unstack('station_id', fill_value=0)\n",
    "out_timeseries = out_timeseries.reindex(sorted(out_timeseries.columns), axis=1)\n",
    "print('Out Timeseries length:', len(out_timeseries))\n",
    "print(print(pd.Series(out_timeseries.values.ravel()).describe()))\n",
    "\n",
    "in_timeseries = in_df.groupby([pd.Grouper(freq=str(timestep)+'T', key='time'), 'station_id'])\n",
    "in_timeseries = in_timeseries['ride_id'].count().unstack('station_id', fill_value=0)\n",
    "in_timeseries = in_timeseries.reindex(sorted(in_timeseries.columns), axis=1)\n",
    "print('\\nIn Timeseries:', len(in_timeseries))\n",
    "print(print(pd.Series(in_timeseries.values.ravel()).describe()))\n",
    "\n",
    "combined_timeseries = pd.concat([in_timeseries, out_timeseries], axis=0)\n",
    "combined_timeseries = combined_timeseries.groupby('time').sum()\n",
    "print('\\nCombined Timeseries:', len(combined_timeseries))\n",
    "combined_timeseries = combined_timeseries.reindex(sorted(combined_timeseries.columns), axis=1)\n",
    "print(print(pd.Series(combined_timeseries.values.ravel()).describe()))"
   ]
  },
  {
   "cell_type": "markdown",
   "metadata": {},
   "source": [
    "# Write each dataframe to CSV"
   ]
  },
  {
   "cell_type": "code",
   "execution_count": 9,
   "metadata": {},
   "outputs": [],
   "source": [
    "out_timeseries.to_csv('../processed_data/outbound.csv')\n",
    "\n",
    "in_timeseries.to_csv('../processed_data/inbound.csv')\n",
    "\n",
    "combined_timeseries.to_csv('../processed_data/combined.csv')"
   ]
  },
  {
   "cell_type": "markdown",
   "metadata": {},
   "source": [
    "# Get all Unique Stations and write to CSV"
   ]
  },
  {
   "cell_type": "code",
   "execution_count": 10,
   "metadata": {},
   "outputs": [],
   "source": [
    "inbound_stations = set(in_timeseries.columns)\n",
    "pd.DataFrame({'station_id': list(inbound_stations)}).to_csv('../processed_data/inbound_stations.csv', index=False)\n",
    "\n",
    "outbound_stations = set(out_timeseries.columns)\n",
    "pd.DataFrame({'station_id': list(outbound_stations)}).to_csv('../processed_data/outbound_stations.csv', index=False)\n",
    "\n",
    "inbound_stations.update(outbound_stations)\n",
    "pd.DataFrame({'station_id': list(inbound_stations)}).to_csv('../processed_data/stations.csv', index=False)"
   ]
  }
 ],
 "metadata": {
  "interpreter": {
   "hash": "ff6ecfd5f2ea843e41359741653957982d295db5330b7f75b0cdaebb57a538b2"
  },
  "kernelspec": {
   "display_name": "Python 3 (ipykernel)",
   "language": "python",
   "name": "python3"
  },
  "language_info": {
   "codemirror_mode": {
    "name": "ipython",
    "version": 3
   },
   "file_extension": ".py",
   "mimetype": "text/x-python",
   "name": "python",
   "nbconvert_exporter": "python",
   "pygments_lexer": "ipython3",
   "version": "3.11.3"
  }
 },
 "nbformat": 4,
 "nbformat_minor": 2
}
